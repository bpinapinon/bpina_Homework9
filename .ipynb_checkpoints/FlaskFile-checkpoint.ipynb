{
 "cells": [
  {
   "cell_type": "code",
   "execution_count": null,
   "metadata": {},
   "outputs": [],
   "source": [
    "# Dependencies\n",
    "from flask import Flask, jsonify\n",
    "import sqlalchemy\n",
    "from sqlalchemy.ext.automap import automap_base\n",
    "from sqlalchemy.orm import Session\n",
    "from sqlalchemy import create_engine, func\n",
    "from datetime import datetime\n",
    "import datetime as dt"
   ]
  },
  {
   "cell_type": "code",
   "execution_count": null,
   "metadata": {},
   "outputs": [],
   "source": [
    "###################################################\n",
    "# Database Setup\n",
    "###################################################\n",
    "engine = create_engine(\"sqlite:///Resources/hawaii.sqlite\")\n",
    "Base = automap_base()\n",
    "Base.prepare(engine, reflect=True)\n",
    "\n",
    "# Assign the classes to respective tables\n",
    "Measurements = Base.classes.measurement\n",
    "Stations = Base.classes.station\n",
    "\n",
    "# Create session\n",
    "session = Session(engine)"
   ]
  },
  {
   "cell_type": "code",
   "execution_count": null,
   "metadata": {},
   "outputs": [],
   "source": [
    "####################################################\n",
    "# Flask Setup\n",
    "###################################################\n",
    "app = Flask(__name__)\n"
   ]
  },
  {
   "cell_type": "code",
   "execution_count": null,
   "metadata": {},
   "outputs": [],
   "source": [
    "####################################################\n",
    "# Flask Routes\n",
    "####################################################\n",
    "\n",
    "#----------------------\n",
    "# Home page route\n",
    "#----------------------\n",
    "@app.route(\"/\")\n",
    "def home():\n",
    "    return (\"Hawaii Weather Data Home<br/>\"\n",
    "    \"/api/v1.0/precipitation<br/>\"\n",
    "    \"/api/v1.0/stations<br/>\"\n",
    "    \"/api/v1.0/tobs<br/>\"\n",
    "    \"<br>\"\n",
    "    \"Enter START DATE in below api in the format: YYYY-MM-DD<br/>\"\n",
    "    \"/api/v1.0/<start><br/>\"\n",
    "    \"<br>\"\n",
    "    \"Enter START DATE and END DATE in below api in the format: YYYY-MM-DD<br/>\"\n",
    "    \"/api/v1.0/<start>/<end>\")"
   ]
  },
  {
   "cell_type": "code",
   "execution_count": null,
   "metadata": {},
   "outputs": [],
   "source": [
    "#----------------------\n",
    "# Precipitation route\n",
    "# Query for the dates and temperature observations from last year. Convert the query result to a dictionary using date as the key and tobs as the value. Return the json representation of your dictionary.\n",
    "#----------------------\n",
    " \n",
    "@app.route(\"/api/v1.0/precipitation\")\n",
    "def precipitation():   \n",
    "     \n",
    "    most_recent = session.query(Measurements.date).order_by(Measurements.date.desc()).first()\n",
    "    last_date = most_recent[0]\n",
    "    year_before = last_date.replace(year = (last_date.year - 1))\n",
    "    year_before = year_before.strftime(\"%Y-%m-%d\")\n",
    "\n",
    "    precip_list = []\n",
    "    precip = session.query(Stations.name, Measurements.date, Measurements.prcp).filter(Measurements.station==Stations.station).filter(Measurements.date>=year_before).order_by(Measurements.date).all()\n",
    "    for p in precip:\n",
    "        # print({\"date\":p[0],\"tobs\":p[1]})\n",
    "        precip_list.append({\"station\":p[0],\"date\":p[1],\"prcp\":p[2]})\n",
    "\n",
    "    return jsonify(precip_list)"
   ]
  },
  {
   "cell_type": "code",
   "execution_count": null,
   "metadata": {},
   "outputs": [],
   "source": [
    "#----------------------\n",
    "# Station route\n",
    "# Return a json list of stations from the dataset.\n",
    "#----------------------\n",
    "@app.route(\"/api/v1.0/stations\")\n",
    "def stations():    \n",
    "    stations = session.query(Stations.station, Stations.name, Measurements.station, func.count(Measurements.tobs)).filter(Stations.station == Measurements.station).group_by(Measurements.station).order_by(func.count(Measurements.tobs).desc()).all()\n",
    "    station_List = []\n",
    "    for s in stations:\n",
    "        station_List.append({\"station\":s[0],\"name\":s[1]})\n",
    "\n",
    "    return jsonify(station_List)\n",
    "\n"
   ]
  },
  {
   "cell_type": "code",
   "execution_count": null,
   "metadata": {},
   "outputs": [],
   "source": [
    "#----------------------\n",
    "# Observed temperature route\n",
    "# Return a json list of Temperature Observations (tobs) for the previous year\n",
    "#----------------------\n",
    "@app.route(\"/api/v1.0/tobs\")\n",
    "def tobs():\n",
    "    most_recent = session.query(Measurements.date).order_by(Measurements.date.desc()).first()\n",
    "    last_date = most_recent[0]\n",
    "    year_before = last_date.replace(year = (last_date.year - 1))\n",
    "    year_before = year_before.strftime(\"%Y-%m-%d\")\n",
    "\n",
    "    tobs = session.query(Stations.name,Measurements.date, Measurements.tobs).filter(Measurements.station==Stations.station).filter(Measurements.date>=year_before).order_by(Measurements.date).all()\n",
    "    tobs_List = []\n",
    "    for t in tobs:\n",
    "       tobs_List.append({\"station\":t[0],\"date\":t[1],\"temperature observation\":t[2]})\n",
    "    \n",
    "    return jsonify(tobs_List)\n",
    "\n"
   ]
  },
  {
   "cell_type": "code",
   "execution_count": null,
   "metadata": {},
   "outputs": [],
   "source": [
    "#----------------------\n",
    "# Return a json list of the minimum temperature, the average temperature, and the max temperature for a given start or start-end range.\n",
    "# When given the start only, calculate TMIN, TAVG, and TMAX for all dates greater than and equal to the start date.\n",
    "#----------------------\n",
    "@app.route(\"/api/v1.0/<start>\")\n",
    "def start(start):\n",
    "\n",
    "    start_date = datetime.strptime(start, '%Y-%m-%d')\n",
    "   \n",
    "    minimum = session.query(func.min(Measurements.tobs)).filter(Measurements.date >= start_date).scalar()\n",
    "    #print(f\"Minimum temp: {minimum}\")\n",
    "    average = session.query(func.round(func.avg(Measurements.tobs))).filter(Measurements.date >= start_date).scalar()\n",
    "    # print(f\"Average temp: {average}\")\n",
    "    maximum = session.query(func.max(Measurements.tobs)).filter(Measurements.date >= start_date).scalar()\n",
    "    # print(f\"Maximum temp: {maximum}\")\n",
    "    \n",
    "    result = [{\"Minimum\":minimum},{\"Maximum\":maximum},{\"Average\":average}]\n",
    "    \n",
    "    return jsonify(result)\n",
    "\n"
   ]
  },
  {
   "cell_type": "code",
   "execution_count": null,
   "metadata": {},
   "outputs": [],
   "source": [
    "#----------------------\n",
    "# When given the start and the end date, calculate the TMIN, TAVG, and TMAX for dates between the start and end date inclusive.\n",
    "@app.route(\"/api/v1.0/<start>/<end>\")\n",
    "def StartEnd(start,end):\n",
    "\n",
    "     start_date = datetime.strptime(start, '%Y-%m-%d')\n",
    "     end_date = datetime.strptime(end, '%Y-%m-%d')\n",
    "\n",
    "     minimum = session.query(func.min(Measurements.tobs)).filter(Measurements.date.between(start_date, end_date)).scalar()\n",
    "     # print(f\"Minimum temp: {minimum}\")\n",
    "     average = session.query(func.round(func.avg(Measurements.tobs))).filter(Measurements.date.between(start_date, end_date)).scalar()\n",
    "     # print(f\"Average temp: {average}\")\n",
    "     maximum = session.query(func.max(Measurements.tobs)).filter(Measurements.date.between(start_date, end_date)).scalar()\n",
    "     # print(f\"Maximum temp: {maximum}\")\n",
    "        \n",
    "     result = [{\"Minimum\":minimum},{\"Maximum\":maximum},{\"Average\":average}]\n",
    "    \n",
    "     return jsonify(result)\n",
    "\n"
   ]
  },
  {
   "cell_type": "code",
   "execution_count": null,
   "metadata": {},
   "outputs": [],
   "source": [
    "if __name__ == '__main__':\n",
    "    app.run(debug=True)"
   ]
  },
  {
   "cell_type": "code",
   "execution_count": null,
   "metadata": {},
   "outputs": [],
   "source": []
  },
  {
   "cell_type": "code",
   "execution_count": null,
   "metadata": {},
   "outputs": [],
   "source": []
  }
 ],
 "metadata": {
  "kernelspec": {
   "display_name": "Python 3",
   "language": "python",
   "name": "python3"
  },
  "language_info": {
   "codemirror_mode": {
    "name": "ipython",
    "version": 3
   },
   "file_extension": ".py",
   "mimetype": "text/x-python",
   "name": "python",
   "nbconvert_exporter": "python",
   "pygments_lexer": "ipython3",
   "version": "3.6.5"
  }
 },
 "nbformat": 4,
 "nbformat_minor": 2
}
